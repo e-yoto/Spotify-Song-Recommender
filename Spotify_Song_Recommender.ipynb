{
  "nbformat": 4,
  "nbformat_minor": 0,
  "metadata": {
    "colab": {
      "provenance": []
    },
    "kernelspec": {
      "name": "python3",
      "display_name": "Python 3"
    },
    "language_info": {
      "name": "python"
    }
  },
  "cells": [
    {
      "cell_type": "markdown",
      "metadata": {
        "id": "mfoGX9387Ssc"
      },
      "source": [
        "### Installing necessary packages"
      ]
    },
    {
      "cell_type": "code",
      "execution_count": 1,
      "metadata": {
        "colab": {
          "base_uri": "https://localhost:8080/"
        },
        "id": "3Pf-RDOQI5XX",
        "outputId": "d20edf15-0c1e-4967-b80c-bf7f85b9e4cb"
      },
      "outputs": [
        {
          "output_type": "stream",
          "name": "stdout",
          "text": [
            "Collecting pyspark\n",
            "  Downloading pyspark-3.5.1.tar.gz (317.0 MB)\n",
            "\u001b[2K     \u001b[90m━━━━━━━━━━━━━━━━━━━━━━━━━━━━━━━━━━━━━━━━\u001b[0m \u001b[32m317.0/317.0 MB\u001b[0m \u001b[31m2.1 MB/s\u001b[0m eta \u001b[36m0:00:00\u001b[0m\n",
            "\u001b[?25h  Preparing metadata (setup.py) ... \u001b[?25l\u001b[?25hdone\n",
            "Requirement already satisfied: py4j==0.10.9.7 in /usr/local/lib/python3.10/dist-packages (from pyspark) (0.10.9.7)\n",
            "Building wheels for collected packages: pyspark\n",
            "  Building wheel for pyspark (setup.py) ... \u001b[?25l\u001b[?25hdone\n",
            "  Created wheel for pyspark: filename=pyspark-3.5.1-py2.py3-none-any.whl size=317488491 sha256=5e17a772e43f7398b6132ae8e60bb04b81eee41ee7bf112dacc93b591e85afe9\n",
            "  Stored in directory: /root/.cache/pip/wheels/80/1d/60/2c256ed38dddce2fdd93be545214a63e02fbd8d74fb0b7f3a6\n",
            "Successfully built pyspark\n",
            "Installing collected packages: pyspark\n",
            "Successfully installed pyspark-3.5.1\n"
          ]
        }
      ],
      "source": [
        "!pip install pyspark"
      ]
    },
    {
      "cell_type": "code",
      "execution_count": 2,
      "metadata": {
        "colab": {
          "base_uri": "https://localhost:8080/"
        },
        "id": "7lafWJFTKceY",
        "outputId": "8e0e4a4e-7dbe-4e1a-d3ad-5db2ba4e0450"
      },
      "outputs": [
        {
          "output_type": "stream",
          "name": "stdout",
          "text": [
            "Collecting load_dotenv\n",
            "  Downloading load_dotenv-0.1.0-py3-none-any.whl (7.2 kB)\n",
            "Collecting python-dotenv (from load_dotenv)\n",
            "  Downloading python_dotenv-1.0.1-py3-none-any.whl (19 kB)\n",
            "Installing collected packages: python-dotenv, load_dotenv\n",
            "Successfully installed load_dotenv-0.1.0 python-dotenv-1.0.1\n"
          ]
        }
      ],
      "source": [
        "!pip install load_dotenv"
      ]
    },
    {
      "cell_type": "code",
      "source": [
        "!pip install spotipy"
      ],
      "metadata": {
        "colab": {
          "base_uri": "https://localhost:8080/"
        },
        "id": "gCVbc1Mw5vl1",
        "outputId": "4cb7f65e-d3b2-40f0-bed8-3d407924e74b"
      },
      "execution_count": 3,
      "outputs": [
        {
          "output_type": "stream",
          "name": "stdout",
          "text": [
            "Collecting spotipy\n",
            "  Downloading spotipy-2.23.0-py3-none-any.whl (29 kB)\n",
            "Collecting redis>=3.5.3 (from spotipy)\n",
            "  Downloading redis-5.0.4-py3-none-any.whl (251 kB)\n",
            "\u001b[2K     \u001b[90m━━━━━━━━━━━━━━━━━━━━━━━━━━━━━━━━━━━━━━━━\u001b[0m \u001b[32m252.0/252.0 kB\u001b[0m \u001b[31m9.9 MB/s\u001b[0m eta \u001b[36m0:00:00\u001b[0m\n",
            "\u001b[?25hRequirement already satisfied: requests>=2.25.0 in /usr/local/lib/python3.10/dist-packages (from spotipy) (2.31.0)\n",
            "Requirement already satisfied: six>=1.15.0 in /usr/local/lib/python3.10/dist-packages (from spotipy) (1.16.0)\n",
            "Requirement already satisfied: urllib3>=1.26.0 in /usr/local/lib/python3.10/dist-packages (from spotipy) (2.0.7)\n",
            "Requirement already satisfied: async-timeout>=4.0.3 in /usr/local/lib/python3.10/dist-packages (from redis>=3.5.3->spotipy) (4.0.3)\n",
            "Requirement already satisfied: charset-normalizer<4,>=2 in /usr/local/lib/python3.10/dist-packages (from requests>=2.25.0->spotipy) (3.3.2)\n",
            "Requirement already satisfied: idna<4,>=2.5 in /usr/local/lib/python3.10/dist-packages (from requests>=2.25.0->spotipy) (3.7)\n",
            "Requirement already satisfied: certifi>=2017.4.17 in /usr/local/lib/python3.10/dist-packages (from requests>=2.25.0->spotipy) (2024.2.2)\n",
            "Installing collected packages: redis, spotipy\n",
            "Successfully installed redis-5.0.4 spotipy-2.23.0\n"
          ]
        }
      ]
    },
    {
      "cell_type": "markdown",
      "metadata": {
        "id": "zI7JWH1Q7csH"
      },
      "source": [
        "### Importing libraries"
      ]
    },
    {
      "cell_type": "code",
      "execution_count": 4,
      "metadata": {
        "id": "xKYFWQAGRYwg"
      },
      "outputs": [],
      "source": [
        "import pandas as pd\n",
        "import json\n",
        "import spotipy\n",
        "from spotipy.oauth2 import SpotifyClientCredentials\n",
        "from pyspark.sql import DataFrame\n",
        "from pyspark.sql import SparkSession\n",
        "from pyspark.sql import Row\n",
        "from pyspark.sql.types import StringType\n",
        "import re\n",
        "import pyspark.sql.functions as F\n",
        "from pyspark.sql.functions import avg, max, min\n",
        "from pyspark.sql.functions import mean, col, when\n",
        "from pyspark.sql.functions import udf\n",
        "import requests\n",
        "from dotenv import load_dotenv\n",
        "import os\n",
        "import base64\n",
        "from requests import post, get\n",
        "from pyspark.sql.types import StructType, StructField, StringType, DoubleType, ArrayType, MapType\n",
        "import numpy as np\n",
        "from pyspark.sql.functions import col, sqrt, sum as sql_sum\n",
        "from pyspark.ml.feature import VectorAssembler\n",
        "from sklearn.metrics.pairwise import cosine_similarity\n",
        "from pyspark.sql.functions import desc\n",
        "from pyspark.ml.feature import StandardScaler\n",
        "from pyspark.ml.feature import StringIndexer\n",
        "from pyspark.sql.functions import col, collect_list, concat_ws\n",
        "from pyspark.ml.stat import Summarizer"
      ]
    },
    {
      "cell_type": "markdown",
      "metadata": {
        "id": "48-owmWO7fEc"
      },
      "source": [
        "### Initializing a spark session."
      ]
    },
    {
      "cell_type": "code",
      "execution_count": 5,
      "metadata": {
        "id": "fDD2nzJhGfMq"
      },
      "outputs": [],
      "source": [
        "def init_spark():\n",
        "    spark = SparkSession \\\n",
        "        .builder \\\n",
        "        .appName(\"Python Spark SQL basic example\") \\\n",
        "        .config(\"spark.some.config.option\", \"some-value\") \\\n",
        "        .getOrCreate()\n",
        "    return spark\n",
        "\n",
        "spark = init_spark()"
      ]
    },
    {
      "cell_type": "markdown",
      "metadata": {
        "id": "l4ZihZAKJcyH"
      },
      "source": [
        "# Loading Dataset"
      ]
    },
    {
      "cell_type": "code",
      "execution_count": 6,
      "metadata": {
        "id": "wXdS5Mk_U68i",
        "colab": {
          "base_uri": "https://localhost:8080/"
        },
        "outputId": "c4dd065c-84d7-48c1-a321-d86175196d8e"
      },
      "outputs": [
        {
          "output_type": "stream",
          "name": "stdout",
          "text": [
            "Mounted at /content/drive/\n"
          ]
        }
      ],
      "source": [
        "from google.colab import drive\n",
        "drive.mount('/content/drive/')\n",
        "# spotfy_songs_df = spark.read.csv('/content/drive/MyDrive/SOEN471_files/spotify_1million_tracks_data.csv', header = True, inferSchema=True)\n",
        "spotfy_songs_df = spark.read.option(\"delimiter\", \"\\t\").csv('/content/drive/MyDrive/SOEN471_files/spotify_1million_tracks_data_tab_sep.txt', header = True, inferSchema=True)"
      ]
    },
    {
      "cell_type": "code",
      "source": [
        "spotfy_songs_df.show(10,False)"
      ],
      "metadata": {
        "id": "O-yJGxxG31VE",
        "colab": {
          "base_uri": "https://localhost:8080/"
        },
        "outputId": "15af79d2-a790-45b1-d5f5-61c27dc18dfb"
      },
      "execution_count": 7,
      "outputs": [
        {
          "output_type": "stream",
          "name": "stdout",
          "text": [
            "+---+---------------------+------------------------------+----------------------+----------+----+--------+------------+------+---+--------+----+-----------+------------+----------------+--------+-------+-------+-----------+--------------+\n",
            "|_c0|artist_name          |track_name                    |track_id              |popularity|year|genre   |danceability|energy|key|loudness|mode|speechiness|acousticness|instrumentalness|liveness|valence|tempo  |duration_ms|time_signature|\n",
            "+---+---------------------+------------------------------+----------------------+----------+----+--------+------------+------+---+--------+----+-----------+------------+----------------+--------+-------+-------+-----------+--------------+\n",
            "|0  |Jason Mraz           |I Won't Give Up               |53QF56cjZA9RTuuMZDrSA6|68        |2012|acoustic|0.483       |0.303 |4  |-10.058 |1   |0.0429     |0.694       |0.0             |0.115   |0.139  |133.406|240166     |3             |\n",
            "|1  |Jason Mraz           |93 Million Miles              |1s8tP3jP4GZcyHDsjvw218|50        |2012|acoustic|0.572       |0.454 |3  |-10.286 |1   |0.0258     |0.477       |1.37E-5         |0.0974  |0.515  |140.182|216387     |4             |\n",
            "|2  |Joshua Hyslop        |Do Not Let Me Go              |7BRCa8MPiyuvr2VU3O9W0F|57        |2012|acoustic|0.409       |0.234 |3  |-13.711 |1   |0.0323     |0.338       |5.0E-5          |0.0895  |0.145  |139.832|158960     |4             |\n",
            "|3  |Boyce Avenue         |Fast Car                      |63wsZUhUZLlh1OsyrZq7sz|58        |2012|acoustic|0.392       |0.251 |10 |-9.845  |1   |0.0363     |0.807       |0.0             |0.0797  |0.508  |204.961|304293     |4             |\n",
            "|4  |Andrew Belle         |Sky's Still Blue              |6nXIYClvJAfi6ujLiKqEq8|54        |2012|acoustic|0.43        |0.791 |6  |-5.419  |0   |0.0302     |0.0726      |0.0193          |0.11    |0.217  |171.864|244320     |4             |\n",
            "|5  |Chris Smither        |What They Say                 |24NvptbNKGs6sPy1Vh1O0v|48        |2012|acoustic|0.566       |0.57  |2  |-6.42   |1   |0.0329     |0.688       |1.73E-6         |0.0943  |0.96   |83.403 |166240     |4             |\n",
            "|6  |Matt Wertz           |Walking in a Winter Wonderland|0BP7hSvLAG3URGrEvNNbGM|48        |2012|acoustic|0.575       |0.606 |9  |-8.197  |1   |0.03       |0.0119      |0.0             |0.0675  |0.364  |121.083|152307     |4             |\n",
            "|7  |Green River Ordinance|Dancing Shoes                 |3Y6BuzQCg9p4yH347Nn8OW|45        |2012|acoustic|0.586       |0.423 |7  |-7.459  |1   |0.0261     |0.252       |5.83E-6         |0.0976  |0.318  |138.133|232373     |4             |\n",
            "|8  |Jason Mraz           |Living in the Moment          |3ce7k1L4EkZppZPz1EJWTS|44        |2012|acoustic|0.65        |0.628 |7  |-7.16   |1   |0.0232     |0.0483      |0.0             |0.119   |0.7    |84.141 |235080     |4             |\n",
            "|9  |Boyce Avenue         |Heaven                        |2EKxmYmUdAVXlaHCnnW13o|58        |2012|acoustic|0.619       |0.28  |8  |-10.238 |0   |0.0317     |0.73        |0.0             |0.103   |0.292  |129.948|250063     |4             |\n",
            "+---+---------------------+------------------------------+----------------------+----------+----+--------+------------+------+---+--------+----+-----------+------------+----------------+--------+-------+-------+-----------+--------------+\n",
            "only showing top 10 rows\n",
            "\n"
          ]
        }
      ]
    },
    {
      "cell_type": "markdown",
      "metadata": {
        "id": "GH6ds6EBJ3cr"
      },
      "source": [
        "# Data Cleaning"
      ]
    },
    {
      "cell_type": "code",
      "execution_count": 8,
      "metadata": {
        "id": "E-_Yvkhon97-"
      },
      "outputs": [],
      "source": [
        "# Rename columns names in first and second dataframes to the same names for consistency\n",
        "spotfy_songs_df = spotfy_songs_df.withColumnRenamed('_c0', 'index')\n",
        "\n",
        "# Drop unneeded columns from the first dataframe\n",
        "columns_to_remove = ['Unnamed: 0','duration_ms','year', 'time_signature','popularity']\n",
        "for column in columns_to_remove:\n",
        "  spotfy_songs_df = spotfy_songs_df.drop(column)\n"
      ]
    },
    {
      "cell_type": "code",
      "execution_count": 9,
      "metadata": {
        "id": "S_ufeWCQevyL",
        "colab": {
          "base_uri": "https://localhost:8080/"
        },
        "outputId": "71692609-ba98-4e20-8d48-f0f248fb0b85"
      },
      "outputs": [
        {
          "output_type": "stream",
          "name": "stdout",
          "text": [
            "+-----+-------------+----------------+--------------------+--------+------------+------+---+--------+----+-----------+------------+----------------+--------+-------+-------+\n",
            "|index|  artist_name|      track_name|            track_id|   genre|danceability|energy|key|loudness|mode|speechiness|acousticness|instrumentalness|liveness|valence|  tempo|\n",
            "+-----+-------------+----------------+--------------------+--------+------------+------+---+--------+----+-----------+------------+----------------+--------+-------+-------+\n",
            "|    0|   Jason Mraz| I Won't Give Up|53QF56cjZA9RTuuMZ...|acoustic|       0.483| 0.303|  4| -10.058|   1|     0.0429|       0.694|             0.0|   0.115|  0.139|133.406|\n",
            "|    1|   Jason Mraz|93 Million Miles|1s8tP3jP4GZcyHDsj...|acoustic|       0.572| 0.454|  3| -10.286|   1|     0.0258|       0.477|         1.37E-5|  0.0974|  0.515|140.182|\n",
            "|    2|Joshua Hyslop|Do Not Let Me Go|7BRCa8MPiyuvr2VU3...|acoustic|       0.409| 0.234|  3| -13.711|   1|     0.0323|       0.338|          5.0E-5|  0.0895|  0.145|139.832|\n",
            "|    3| Boyce Avenue|        Fast Car|63wsZUhUZLlh1Osyr...|acoustic|       0.392| 0.251| 10|  -9.845|   1|     0.0363|       0.807|             0.0|  0.0797|  0.508|204.961|\n",
            "|    4| Andrew Belle|Sky's Still Blue|6nXIYClvJAfi6ujLi...|acoustic|        0.43| 0.791|  6|  -5.419|   0|     0.0302|      0.0726|          0.0193|    0.11|  0.217|171.864|\n",
            "+-----+-------------+----------------+--------------------+--------+------------+------+---+--------+----+-----------+------------+----------------+--------+-------+-------+\n",
            "only showing top 5 rows\n",
            "\n"
          ]
        }
      ],
      "source": [
        "# Testing if dataframe for first list of songs has right output\n",
        "spotfy_songs_df.show(5)"
      ]
    },
    {
      "cell_type": "markdown",
      "metadata": {
        "id": "FCx66rj5Jg9T"
      },
      "source": [
        "# Spotify API manipulation to get User Playlist tracks\n"
      ]
    },
    {
      "cell_type": "code",
      "execution_count": 10,
      "metadata": {
        "id": "eW6KLLB1Jc1p",
        "colab": {
          "base_uri": "https://localhost:8080/"
        },
        "outputId": "c1825bbd-ddcf-40f4-a8ed-4719366354d2"
      },
      "outputs": [
        {
          "output_type": "stream",
          "name": "stdout",
          "text": [
            "url: https://api.spotify.com/v1/playlists/6yLF7RyxeQgnyXWfxRYqWx/tracks\n",
            "Total tracks fetched: 310\n"
          ]
        }
      ],
      "source": [
        "# Load the .env file\n",
        "# load_dotenv('user.env')\n",
        "load_dotenv('/content/drive/MyDrive/SOEN471_files/user.env')\n",
        "client_id = os.getenv('CLIENT_ID')\n",
        "client_secret = os.getenv('CLIENT_SECRET')\n",
        "\n",
        "def get_token():\n",
        "    auth_string = client_id + \":\" + client_secret\n",
        "    auth_bytes = auth_string.encode('utf-8')\n",
        "    auth_base64 = str(base64.b64encode(auth_bytes),'utf-8')\n",
        "    url = \"https://accounts.spotify.com/api/token\"\n",
        "    headers = {\n",
        "        \"Authorization\": \"Basic \" + auth_base64,\n",
        "        \"Content-Type\": \"application/x-www-form-urlencoded\"\n",
        "    }\n",
        "    data = {\"grant_type\": \"client_credentials\"}\n",
        "    result = post(url, headers=headers, data=data)\n",
        "    json_result = json.loads(result.content)\n",
        "    token = json_result[\"access_token\"]\n",
        "    return token\n",
        "\n",
        "def get_auth_header(token):\n",
        "    return {\"Authorization\": \"Bearer \" + token}\n",
        "\n",
        "token = get_token()\n",
        "\n",
        "## This one is improved version of def get_playlist(token, seeds)\n",
        "def playlist_tracks(token, seeds):\n",
        "    url = \"https://api.spotify.com/v1/playlists/\"\n",
        "    headers = get_auth_header(token)\n",
        "    seed_playlist = seeds['playlist']\n",
        "    query_url = url + seed_playlist + \"/tracks\"\n",
        "    print(f'url: {query_url}')\n",
        "\n",
        "    all_tracks = []  # List to store all tracks\n",
        "\n",
        "    limit = 100  # Maximum number of tracks per request\n",
        "    offset = 0   # Initial offset\n",
        "\n",
        "    while True:\n",
        "        # Make request to fetch tracks with the current offset\n",
        "        params = {'limit': limit, 'offset': offset}\n",
        "        result = requests.get(query_url, headers=headers, params=params)\n",
        "        json_result = result.json()\n",
        "\n",
        "        # Check if there are tracks in the response\n",
        "        if 'items' in json_result:\n",
        "            tracks = json_result['items']\n",
        "            all_tracks.extend(tracks)  # Add tracks to the list\n",
        "\n",
        "            # Check if there are more tracks to fetch\n",
        "            if len(tracks) < limit:\n",
        "                break  # No more tracks to fetch\n",
        "\n",
        "            # Increment offset for next request\n",
        "            offset += limit\n",
        "        else:\n",
        "            break  # No tracks found in the response\n",
        "\n",
        "    return all_tracks\n",
        "\n",
        "\n",
        "# ---GET ALL SONGS FROM PLAYLIST---\n",
        "# 3N4iBPX7sIvTisnRfxENYh\n",
        "# 36X9xBefQM03QOI7FE2vb5 its about drive\n",
        "# 6yLF7RyxeQgnyXWfxRYqWx all\n",
        "# https://open.spotify.com/playlist/63JPeRGc9H7XBY1T1oRrkZ?si=22d0c4a024644300\n",
        "# https://open.spotify.com/playlist/3KVkwNoITp21prEUbHVOFG?si=edef88e7bb2d489c\n",
        "# https://open.spotify.com/playlist/6e0hGtrPplc5xixvDSEg32?si=a50a22fcc4b944e4\n",
        "seeds = { 'playlist':  '6yLF7RyxeQgnyXWfxRYqWx'}\n",
        "json_string = playlist_tracks(token, seeds)\n",
        "print(f'Total tracks fetched: {len(json_string)}')"
      ]
    },
    {
      "cell_type": "code",
      "execution_count": 11,
      "metadata": {
        "id": "4l0CuwsSaccc",
        "colab": {
          "base_uri": "https://localhost:8080/"
        },
        "outputId": "2d4cefa3-3676-44ca-fa28-36aaa6298649"
      },
      "outputs": [
        {
          "output_type": "stream",
          "name": "stdout",
          "text": [
            "+----------------------+\n",
            "|track_id              |\n",
            "+----------------------+\n",
            "|02q0ZnV2L4XByzEvWZJqBC|\n",
            "|15jxI2XwZfYo7FGKex8IEf|\n",
            "|1RMJOxR6GRPsBHL8qeC2ux|\n",
            "|1iEzGFEux7t1Wk41LOaCCr|\n",
            "|6z1kLsntE7FuzKZHZWrXYN|\n",
            "|4WJNAvpI9FwZJSNrkIyvGZ|\n",
            "|33i3xxHB4YSYGYbtJrwwO8|\n",
            "|7KA4W4McWYRpgf0fWsJZWB|\n",
            "|5SxlUF7J8tyFIEF22EomeP|\n",
            "|5WNYg3usc6H8N3MBEp4zVk|\n",
            "+----------------------+\n",
            "only showing top 10 rows\n",
            "\n"
          ]
        }
      ],
      "source": [
        "# Create a spark dataframe by extracting song id from playlist\n",
        "user_playlist_df = spark.createDataFrame(re.findall(r'/track/(\\w+)', json.dumps(json_string)), StringType()).toDF(\"track_id\")\n",
        "user_playlist_df.show(10,False)"
      ]
    },
    {
      "cell_type": "code",
      "execution_count": 12,
      "metadata": {
        "id": "GP9qtDVXMM0T",
        "colab": {
          "base_uri": "https://localhost:8080/"
        },
        "outputId": "61a90d76-1370-4fb8-bd24-3ee76237f683"
      },
      "outputs": [
        {
          "output_type": "stream",
          "name": "stdout",
          "text": [
            "+----------------------+------+------------------+-----------------------------------------------------+-------+------------+------+----+--------+----+-----------+------------+----------------+--------+-------+-------+\n",
            "|track_id              |index |artist_name       |track_name                                           |genre  |danceability|energy|key |loudness|mode|speechiness|acousticness|instrumentalness|liveness|valence|tempo  |\n",
            "+----------------------+------+------------------+-----------------------------------------------------+-------+------------+------+----+--------+----+-----------+------------+----------------+--------+-------+-------+\n",
            "|02q0ZnV2L4XByzEvWZJqBC|NULL  |NULL              |NULL                                                 |NULL   |NULL        |NULL  |NULL|NULL    |NULL|NULL       |NULL        |NULL            |NULL    |NULL   |NULL   |\n",
            "|2tlJ22iQwiO1CWBQSma23n|NULL  |NULL              |NULL                                                 |NULL   |NULL        |NULL  |NULL|NULL    |NULL|NULL       |NULL        |NULL            |NULL    |NULL   |NULL   |\n",
            "|33i3xxHB4YSYGYbtJrwwO8|284947|Tyler, The Creator|Foreword (feat. Rex Orange County)                   |hip-hop|0.734       |0.671 |1   |-7.107  |1   |0.0315     |0.118       |0.00317         |0.352   |0.113  |94.025 |\n",
            "|3iqlzKw1tLt6tXZyKWV0fZ|537294|keshi             |SOMEBODY                                             |chill  |0.649       |0.461 |8   |-8.401  |1   |0.0449     |0.442       |0.0             |0.108   |0.487  |141.088|\n",
            "|4LaZ8RpIP6DIgN73bXQVlO|537314|keshi             |GET IT                                               |chill  |0.619       |0.71  |4   |-7.661  |0   |0.0686     |0.224       |3.95E-4         |0.218   |0.313  |170.119|\n",
            "|4bEcoz1OcfMgUbp2ft8ieQ|284848|Tyler, The Creator|911 / Mr. Lonely (feat. Frank Ocean & Steve Lacy)    |hip-hop|0.48        |0.61  |0   |-7.042  |1   |0.305      |0.0456      |0.0             |0.313   |0.297  |90.034 |\n",
            "|4mMZANpFSbc19Ts4DpL763|537340|keshi             |MILLI                                                |chill  |0.667       |0.5   |2   |-9.837  |0   |0.0748     |0.587       |4.31E-6         |0.0784  |0.42   |80.951 |\n",
            "|5OUTFH5acycdnf8OVo21Gv|NULL  |NULL              |NULL                                                 |NULL   |NULL        |NULL  |NULL|NULL    |NULL|NULL       |NULL        |NULL            |NULL    |NULL   |NULL   |\n",
            "|5WNYg3usc6H8N3MBEp4zVk|284872|Tyler, The Creator|Boredom (feat. Rex Orange County & Anna of the North)|hip-hop|0.559       |0.578 |8   |-9.54   |1   |0.151      |0.79        |5.22E-4         |0.324   |0.239  |79.938 |\n",
            "|5cgy5vMqVZbd8hYutp2txu|537302|keshi             |TOUCH                                                |chill  |0.412       |0.613 |10  |-9.803  |1   |0.125      |0.528       |1.96E-6         |0.104   |0.314  |89.025 |\n",
            "+----------------------+------+------------------+-----------------------------------------------------+-------+------------+------+----+--------+----+-----------+------------+----------------+--------+-------+-------+\n",
            "only showing top 10 rows\n",
            "\n"
          ]
        }
      ],
      "source": [
        "# Join tracks from user playlist with dataset to get features from dataset\n",
        "merge_df = user_playlist_df.join(spotfy_songs_df, on = 'track_id', how='left')\n",
        "\n",
        "# show current dataframe\n",
        "merge_df.show(10, False)"
      ]
    },
    {
      "cell_type": "code",
      "source": [
        "# Extract audio features from songs that aren't in the dataset using the Spotify API\n",
        "\n",
        "null_track_ids_df = merge_df.filter(merge_df.danceability.isNull())\n",
        "track_ids_list = null_track_ids_df.select(collect_list('track_id')).collect()[0][0]\n",
        "# Limit list to 100 songs max if it has more than 100 strings (api has a limit of 100 strings in the request)\n",
        "if len(track_ids_list) > 100:\n",
        "  track_ids_list = track_ids_list[:100]\n",
        "\n",
        "sp = spotipy.Spotify(client_credentials_manager=SpotifyClientCredentials(client_id,client_secret))\n",
        "\n",
        "missing_track_audio_features_json = sp.audio_features(track_ids_list)\n",
        "\n",
        "\n",
        "extracted_audio_features_df = spark.read.json(spark.sparkContext.parallelize(missing_track_audio_features_json))"
      ],
      "metadata": {
        "id": "Ql4d7sQX8pmr"
      },
      "execution_count": 13,
      "outputs": []
    },
    {
      "cell_type": "code",
      "source": [
        "#Reorder columns\n",
        "extracted_audio_features_df = extracted_audio_features_df.select('id', 'danceability', 'energy', 'key', 'loudness','mode','speechiness','acousticness','instrumentalness','liveness','valence','tempo')\n",
        "extracted_audio_features_df.show(10, False)"
      ],
      "metadata": {
        "id": "GKO9RcjNB9jv",
        "colab": {
          "base_uri": "https://localhost:8080/"
        },
        "outputId": "195721d7-e81e-487e-999b-80dabb691ce7"
      },
      "execution_count": 14,
      "outputs": [
        {
          "output_type": "stream",
          "name": "stdout",
          "text": [
            "+----------------------+------------+------+---+--------+----+-----------+------------+----------------+--------+-------+-------+\n",
            "|id                    |danceability|energy|key|loudness|mode|speechiness|acousticness|instrumentalness|liveness|valence|tempo  |\n",
            "+----------------------+------------+------+---+--------+----+-----------+------------+----------------+--------+-------+-------+\n",
            "|02q0ZnV2L4XByzEvWZJqBC|0.539       |0.846 |8  |-3.192  |1   |0.0354     |0.0063      |1.68E-6         |0.13    |0.46   |106.992|\n",
            "|06EMBzxDm2hueehobAlMtm|0.388       |0.323 |5  |-7.158  |1   |0.0348     |0.851       |2.03E-6         |0.143   |0.232  |118.885|\n",
            "|0ErvwtalACwcpvEDJVZX7O|0.639       |0.895 |0  |-3.192  |1   |0.0558     |6.21E-4     |0.0             |0.0381  |0.943  |148.004|\n",
            "|0GLXQAdrh4tdvz0JLw8DX8|0.749       |0.553 |10 |-6.385  |1   |0.0374     |0.42        |1.98E-4         |0.31    |0.641  |96.044 |\n",
            "|0Y8F9OzVKj0kpyXqbTr4ZE|0.591       |0.655 |1  |-4.599  |1   |0.0499     |0.0182      |0.00139         |0.118   |0.429  |113.806|\n",
            "|0b6l1obmzq1YrqiKBVLtIo|0.681       |0.568 |11 |-6.264  |0   |0.136      |0.439       |1.73E-4         |0.446   |0.301  |140.004|\n",
            "|0lYtIvI7bO51PZSeK22Mbz|0.63        |0.516 |0  |-5.759  |1   |0.0379     |0.736       |0.0             |0.264   |0.254  |143.786|\n",
            "|0mrgAyhYrP2JWT9yoUUFRj|0.549       |0.554 |5  |-3.056  |1   |0.0349     |0.248       |0.0             |0.175   |0.36   |83.798 |\n",
            "|0rOLFkjY5DSIViVBNnzOuK|0.552       |0.638 |1  |-7.474  |1   |0.11       |0.387       |1.4E-4          |0.374   |0.332  |167.834|\n",
            "|0vt3kA21CNUpJq5RT24z9W|0.716       |0.832 |11 |-4.233  |1   |0.0905     |0.223       |0.0             |0.327   |0.902  |115.079|\n",
            "+----------------------+------------+------+---+--------+----+-----------+------------+----------------+--------+-------+-------+\n",
            "only showing top 10 rows\n",
            "\n"
          ]
        }
      ]
    },
    {
      "cell_type": "markdown",
      "source": [
        "# Dropping songs from the dataset that do *not* fit the user's genres"
      ],
      "metadata": {
        "id": "WhH9EQEzDDQN"
      }
    },
    {
      "cell_type": "code",
      "execution_count": 15,
      "metadata": {
        "id": "CePF9Bw6fiAZ",
        "colab": {
          "base_uri": "https://localhost:8080/"
        },
        "outputId": "4d8ace37-8c81-44c9-f619-6dbedf57a6c7"
      },
      "outputs": [
        {
          "output_type": "stream",
          "name": "stdout",
          "text": [
            "['pop', 'k-pop', 'ambient', 'chill', 'hip-hop', 'indie-pop']\n"
          ]
        }
      ],
      "source": [
        "#Collect all genres from user playlist\n",
        "distinct_genres_df = merge_df.select(\"genre\").distinct()\n",
        "distinct_genres_df = distinct_genres_df.dropna()\n",
        "\n",
        "# transform the distinct genre values into a list\n",
        "distinct_genres = [row.genre for row in distinct_genres_df.collect()]\n",
        "\n",
        "# Print the distinct genre values\n",
        "print(distinct_genres)\n",
        "\n",
        "# Drop unrelated genres from dataset\n",
        "spotfy_songs_df = spotfy_songs_df.filter(col('genre').isin(distinct_genres))"
      ]
    },
    {
      "cell_type": "code",
      "execution_count": 16,
      "metadata": {
        "id": "0inDNE1yCDna"
      },
      "outputs": [],
      "source": [
        "# Drop all rows with nulls in spotfy_songs_df\n",
        "spotfy_songs_df = spotfy_songs_df.dropna()"
      ]
    },
    {
      "cell_type": "code",
      "execution_count": 17,
      "metadata": {
        "id": "-h0C4_G7mXsh",
        "colab": {
          "base_uri": "https://localhost:8080/"
        },
        "outputId": "85238e45-6df5-4480-d716-ae4aadc2baa4"
      },
      "outputs": [
        {
          "output_type": "stream",
          "name": "stdout",
          "text": [
            "+--------------------+------------+------+----+--------+----+-----------+------------+----------------+--------+-------+-------+\n",
            "|            track_id|danceability|energy| key|loudness|mode|speechiness|acousticness|instrumentalness|liveness|valence|  tempo|\n",
            "+--------------------+------------+------+----+--------+----+-----------+------------+----------------+--------+-------+-------+\n",
            "|02q0ZnV2L4XByzEvW...|        NULL|  NULL|NULL|    NULL|NULL|       NULL|        NULL|            NULL|    NULL|   NULL|   NULL|\n",
            "|2tlJ22iQwiO1CWBQS...|        NULL|  NULL|NULL|    NULL|NULL|       NULL|        NULL|            NULL|    NULL|   NULL|   NULL|\n",
            "|33i3xxHB4YSYGYbtJ...|       0.734| 0.671|   1|  -7.107|   1|     0.0315|       0.118|         0.00317|   0.352|  0.113| 94.025|\n",
            "|3iqlzKw1tLt6tXZyK...|       0.649| 0.461|   8|  -8.401|   1|     0.0449|       0.442|             0.0|   0.108|  0.487|141.088|\n",
            "|4LaZ8RpIP6DIgN73b...|       0.619|  0.71|   4|  -7.661|   0|     0.0686|       0.224|         3.95E-4|   0.218|  0.313|170.119|\n",
            "|4bEcoz1OcfMgUbp2f...|        0.48|  0.61|   0|  -7.042|   1|      0.305|      0.0456|             0.0|   0.313|  0.297| 90.034|\n",
            "|4mMZANpFSbc19Ts4D...|       0.667|   0.5|   2|  -9.837|   0|     0.0748|       0.587|         4.31E-6|  0.0784|   0.42| 80.951|\n",
            "|5OUTFH5acycdnf8OV...|        NULL|  NULL|NULL|    NULL|NULL|       NULL|        NULL|            NULL|    NULL|   NULL|   NULL|\n",
            "|5WNYg3usc6H8N3MBE...|       0.559| 0.578|   8|   -9.54|   1|      0.151|        0.79|         5.22E-4|   0.324|  0.239| 79.938|\n",
            "|5cgy5vMqVZbd8hYut...|       0.412| 0.613|  10|  -9.803|   1|      0.125|       0.528|         1.96E-6|   0.104|  0.314| 89.025|\n",
            "+--------------------+------------+------+----+--------+----+-----------+------------+----------------+--------+-------+-------+\n",
            "only showing top 10 rows\n",
            "\n"
          ]
        }
      ],
      "source": [
        "# Drop unnecessary columns\n",
        "columns_to_drop = ['artist_name','track_name','popularity','year','index','time_signature','genre']\n",
        "for column in columns_to_drop:\n",
        "  merge_df = merge_df.drop(column)\n",
        "\n",
        "merge_df.show(10)"
      ]
    },
    {
      "cell_type": "code",
      "source": [
        "# Combine the user's playlist dataframe with the dataframe containing the missing audio features\n",
        "merge_df = merge_df.union(extracted_audio_features_df)\n",
        "merge_df = merge_df.dropna()\n",
        "\n",
        "merge_df.show(10, False)"
      ],
      "metadata": {
        "id": "bCIfUrLdQdpc",
        "colab": {
          "base_uri": "https://localhost:8080/"
        },
        "outputId": "1d922ff3-4d4a-4066-f5bf-b1f447ba5cb4"
      },
      "execution_count": 18,
      "outputs": [
        {
          "output_type": "stream",
          "name": "stdout",
          "text": [
            "+----------------------+------------+------+---+--------+----+-----------+------------+----------------+--------+-------+-------+\n",
            "|track_id              |danceability|energy|key|loudness|mode|speechiness|acousticness|instrumentalness|liveness|valence|tempo  |\n",
            "+----------------------+------------+------+---+--------+----+-----------+------------+----------------+--------+-------+-------+\n",
            "|01ZedLPM6De5HPt5crdRQf|0.661       |0.845 |2  |-5.607  |1   |0.0348     |0.0123      |0.0             |0.163   |0.835  |130.06 |\n",
            "|07wOBgBXdrrhs3LOCy2RpM|0.656       |0.348 |5  |-12.556 |1   |0.0347     |0.422       |0.00527         |0.0852  |0.533  |178.046|\n",
            "|0DYvTdqBqW6erA1a7pFzVo|0.807       |0.501 |10 |-6.397  |0   |0.0377     |0.645       |1.53E-5         |0.262   |0.401  |94.958 |\n",
            "|0JL7DoEqAUcOntWmBuOSdh|0.588       |0.452 |7  |-7.778  |1   |0.039      |0.724       |0.0             |0.107   |0.267  |83.936 |\n",
            "|0XFCzxunyrtisfiZALPVSR|0.732       |0.826 |8  |-4.715  |1   |0.0589     |0.564       |0.0             |0.0746  |0.705  |117.943|\n",
            "|0dWOFwdXrbBUYqD9DLsoyK|0.595       |0.657 |1  |-6.498  |0   |0.183      |0.462       |5.97E-4         |0.437   |0.718  |156.093|\n",
            "|0eYv585XqQBswrj2aLrDWU|0.457       |0.95  |5  |-1.93   |0   |0.129      |0.018       |0.0             |0.0701  |0.767  |174.002|\n",
            "|0pl5A0K1kXws0xkClbd6iN|0.563       |0.707 |8  |-5.116  |1   |0.0409     |0.00982     |0.0             |0.0689  |0.633  |77.995 |\n",
            "|0uLgxIVjt4CaUyvM3jcmQJ|0.544       |0.937 |2  |-1.12   |1   |0.0442     |0.0686      |0.0             |0.314   |0.518  |140.106|\n",
            "|14gmLQPNYokqB8OKxAp69f|0.622       |0.671 |5  |-6.426  |1   |0.026      |0.014       |0.0             |0.304   |0.572  |84.996 |\n",
            "+----------------------+------------+------+---+--------+----+-----------+------------+----------------+--------+-------+-------+\n",
            "only showing top 10 rows\n",
            "\n"
          ]
        }
      ]
    },
    {
      "cell_type": "code",
      "execution_count": 19,
      "metadata": {
        "id": "KYiKZwTynKIv",
        "colab": {
          "base_uri": "https://localhost:8080/"
        },
        "outputId": "839870d0-f09c-4cb8-a367-8ada18ba1b6d"
      },
      "outputs": [
        {
          "output_type": "stream",
          "name": "stdout",
          "text": [
            "+--------------------+------------+------+---+--------+----+-----------+------------+----------------+--------+-------+-------+\n",
            "|            track_id|danceability|energy|key|loudness|mode|speechiness|acousticness|instrumentalness|liveness|valence|  tempo|\n",
            "+--------------------+------------+------+---+--------+----+-----------+------------+----------------+--------+-------+-------+\n",
            "|01ZedLPM6De5HPt5c...|       0.661| 0.845|  2|  -5.607|   1|     0.0348|      0.0123|             0.0|   0.163|  0.835| 130.06|\n",
            "|07wOBgBXdrrhs3LOC...|       0.656| 0.348|  5| -12.556|   1|     0.0347|       0.422|         0.00527|  0.0852|  0.533|178.046|\n",
            "|0DYvTdqBqW6erA1a7...|       0.807| 0.501| 10|  -6.397|   0|     0.0377|       0.645|         1.53E-5|   0.262|  0.401| 94.958|\n",
            "|0JL7DoEqAUcOntWmB...|       0.588| 0.452|  7|  -7.778|   1|      0.039|       0.724|             0.0|   0.107|  0.267| 83.936|\n",
            "|0XFCzxunyrtisfiZA...|       0.732| 0.826|  8|  -4.715|   1|     0.0589|       0.564|             0.0|  0.0746|  0.705|117.943|\n",
            "|0dWOFwdXrbBUYqD9D...|       0.595| 0.657|  1|  -6.498|   0|      0.183|       0.462|         5.97E-4|   0.437|  0.718|156.093|\n",
            "|0eYv585XqQBswrj2a...|       0.457|  0.95|  5|   -1.93|   0|      0.129|       0.018|             0.0|  0.0701|  0.767|174.002|\n",
            "|0pl5A0K1kXws0xkCl...|       0.563| 0.707|  8|  -5.116|   1|     0.0409|     0.00982|             0.0|  0.0689|  0.633| 77.995|\n",
            "|0uLgxIVjt4CaUyvM3...|       0.544| 0.937|  2|   -1.12|   1|     0.0442|      0.0686|             0.0|   0.314|  0.518|140.106|\n",
            "|14gmLQPNYokqB8OKx...|       0.622| 0.671|  5|  -6.426|   1|      0.026|       0.014|             0.0|   0.304|  0.572| 84.996|\n",
            "+--------------------+------------+------+---+--------+----+-----------+------------+----------------+--------+-------+-------+\n",
            "only showing top 10 rows\n",
            "\n"
          ]
        }
      ],
      "source": [
        "# Create a list of features (this will be used multiple times)\n",
        "feature_columns = [ 'danceability', 'energy', 'key','loudness', 'mode', 'speechiness', 'acousticness', 'instrumentalness', 'liveness', 'valence','tempo']\n",
        "\n",
        "# Calculate the mean for each column\n",
        "mean_values = merge_df.select([mean(col(column)).alias(column) for column in feature_columns]).collect()[0].asDict()\n",
        "\n",
        "# Replace null values in each column with its respective mean value\n",
        "updated_df = merge_df.fillna(mean_values, subset=feature_columns)\n",
        "\n",
        "updated_df.show(10)"
      ]
    },
    {
      "cell_type": "markdown",
      "metadata": {
        "id": "n341yR8kIC2-"
      },
      "source": [
        "# Create user-profile (from user input)"
      ]
    },
    {
      "cell_type": "code",
      "execution_count": 20,
      "metadata": {
        "id": "hyZUMlCSuiGB",
        "colab": {
          "base_uri": "https://localhost:8080/"
        },
        "outputId": "823b99c6-bfbb-41a0-9e41-c8a93bdb224d"
      },
      "outputs": [
        {
          "output_type": "execute_result",
          "data": {
            "text/plain": [
              "{'avg_features': {'danceability': 0.6142788844621513,\n",
              "  'energy': 0.6150597609561753,\n",
              "  'key': 5.422310756972111,\n",
              "  'loudness': -6.464756972111554,\n",
              "  'mode': 0.7330677290836654,\n",
              "  'speechiness': 0.07777928286852588,\n",
              "  'acousticness': 0.3255154541832669,\n",
              "  'instrumentalness': 0.018291775657370522,\n",
              "  'liveness': 0.18478804780876493,\n",
              "  'valence': 0.44881752988047807,\n",
              "  'tempo': 121.88837051792831}}"
            ]
          },
          "metadata": {},
          "execution_count": 20
        }
      ],
      "source": [
        "# User profile\n",
        "def create_user_profile(playlist_df):\n",
        "    # Calculate the mean for each feature column\n",
        "    avg_features_dict = playlist_df.select([mean(col(column)).alias(column) for column in feature_columns]).collect()[0].asDict()\n",
        "\n",
        "    # Return dictionary of all features and their average\n",
        "    return Row(avg_features=avg_features_dict).asDict()\n",
        "\n",
        "# Creating a user profile\n",
        "user_1_profile = create_user_profile(updated_df)\n",
        "\n",
        "user_1_profile"
      ]
    },
    {
      "cell_type": "code",
      "execution_count": 21,
      "metadata": {
        "id": "fr-kTNqNKBuz",
        "colab": {
          "base_uri": "https://localhost:8080/"
        },
        "outputId": "72f06e3e-a44b-47a9-bfb7-d9a3a7904387"
      },
      "outputs": [
        {
          "output_type": "stream",
          "name": "stdout",
          "text": [
            "[0.6142788844621513, 0.6150597609561753, 5.422310756972111, -6.464756972111554, 0.7330677290836654, 0.07777928286852588, 0.3255154541832669, 0.018291775657370522, 0.18478804780876493, 0.44881752988047807, 121.88837051792831]\n"
          ]
        }
      ],
      "source": [
        "# Converting average features from a dictionary to a list\n",
        "user_profile_values = list(user_1_profile['avg_features'].values())\n",
        "# Printing the list of user profile values\n",
        "print(user_profile_values)\n",
        "\n",
        "\n",
        "# Casting all feature values to double\n",
        "for feature_column in feature_columns:\n",
        "    updated_df = updated_df.withColumn(feature_column, col(feature_column).cast('double'))\n",
        "    spotfy_songs_df = spotfy_songs_df.withColumn(feature_column, col(feature_column).cast('double'))"
      ]
    },
    {
      "cell_type": "markdown",
      "source": [
        "# Vector assembly and Standard Scaler for user playlist and spotify playlist"
      ],
      "metadata": {
        "id": "KYBsFxU_tLhL"
      }
    },
    {
      "cell_type": "code",
      "source": [
        "# Creating a vector assembler for user and spotify playlist\n",
        "# We will transform all track features into a vector\n",
        "vector_assembler = VectorAssembler(inputCols=feature_columns, outputCol='features_vector', handleInvalid='skip')\n",
        "\n",
        "user_vector_df = vector_assembler.transform(updated_df)\n",
        "spotify_vector_df = vector_assembler.transform(spotfy_songs_df)\n",
        "\n",
        "spotify_vector_df.show()"
      ],
      "metadata": {
        "id": "s2KChpFDT5hU",
        "colab": {
          "base_uri": "https://localhost:8080/"
        },
        "outputId": "dd12578e-8aae-46ab-aa02-27132d273810"
      },
      "execution_count": 22,
      "outputs": [
        {
          "output_type": "stream",
          "name": "stdout",
          "text": [
            "+-----+--------------------+--------------------+--------------------+-------+------------+-------+----+--------+----+-----------+------------+----------------+--------+-------+-------+--------------------+\n",
            "|index|         artist_name|          track_name|            track_id|  genre|danceability| energy| key|loudness|mode|speechiness|acousticness|instrumentalness|liveness|valence|  tempo|     features_vector|\n",
            "+-----+--------------------+--------------------+--------------------+-------+------------+-------+----+--------+----+-----------+------------+----------------+--------+-------+-------+--------------------+\n",
            "| 2724|Cigarettes After Sex|Nothing's Gonna H...|3GhsBdS9ulPK3KCdw...|ambient|       0.509|  0.331| 4.0| -14.083| 1.0|     0.0267|       0.272|           0.136|   0.114| 0.0957| 96.848|[0.509,0.331,4.0,...|\n",
            "| 2725|    Sleeping At Last|        Turning Page|2kfGoV9a5dbSKCNmU...|ambient|       0.307|  0.371| 3.0|  -8.498| 1.0|     0.0288|       0.923|          0.0253|    0.11|  0.189|115.241|[0.307,0.371,3.0,...|\n",
            "| 2726|       Marconi Union|          Weightless|6kkwzB6hXLIONkEk9...|ambient|       0.139|   0.22| 2.0| -19.974| 0.0|     0.0324|       0.856|           0.831|    0.17| 0.0789| 71.432|[0.139,0.22,2.0,-...|\n",
            "| 2727|Cigarettes After Sex|     Dreaming of You|4mYjDXwOUL8sxWepd...|ambient|       0.184|  0.399| 7.0| -14.904| 1.0|     0.0457|       0.563|           0.124|   0.134|  0.136| 66.983|[0.184,0.399,7.0,...|\n",
            "| 2728|Cigarettes After Sex|         Starry Eyes|2xfRDWDKOisEXgRnY...|ambient|       0.425|  0.363| 2.0|  -15.32| 1.0|     0.0322|       0.448|           0.321|  0.0685|   0.12|100.426|[0.425,0.363,2.0,...|\n",
            "| 2729|       Marconi Union|   Weightless Part 1|2UZZtkoLOg7IHxeTA...|ambient|      0.0783|  0.206| 2.0| -20.611| 0.0|     0.0337|       0.864|           0.838|   0.179| 0.0807| 80.341|[0.0783,0.206,2.0...|\n",
            "| 2730|Cigarettes After Sex|   I'm A Firefighter|07i6kH81u4G4e7scz...|ambient|       0.376|    0.3| 7.0| -13.654| 1.0|     0.0331|       0.465|          0.0339|   0.159|  0.126|114.901|[0.376,0.3,7.0,-1...|\n",
            "| 2731|          Nils Frahm|                  Re|346d2tSxhrRUpL4bp...|ambient|       0.458| 0.0743| 6.0| -24.145| 0.0|     0.0532|       0.993|            0.91|   0.103|  0.232| 108.93|[0.458,0.0743,6.0...|\n",
            "| 2732|   Abel Korzeniowski| Dance For Me Wallis|1vWtTis3VRkkUp8qS...|ambient|       0.397|  0.357| 7.0| -14.694| 0.0|     0.0313|       0.889|           0.907|   0.147|   0.16| 86.043|[0.397,0.357,7.0,...|\n",
            "| 2733|       Marconi Union|   Weightless Part 3|70FfytITXJOz0s2xY...|ambient|      0.0746|  0.156| 9.0| -24.007| 0.0|     0.0393|       0.863|           0.919|   0.105| 0.0463| 80.494|[0.0746,0.156,9.0...|\n",
            "| 2734|       Marconi Union|   Weightless Part 4|2fTIn1AqeTGR6tSSf...|ambient|       0.248| 0.0318| 9.0| -24.706| 0.0|     0.0447|       0.926|           0.954|   0.111| 0.0756|130.462|[0.248,0.0318,9.0...|\n",
            "| 2735|        Bethel Music|         Fall Afresh|42TAP4olyZONFmNT4...|ambient|       0.466|  0.486|11.0| -10.731| 1.0|     0.0288|        0.82|          4.5E-5|   0.156|  0.186|136.949|[0.466,0.486,11.0...|\n",
            "| 2736|      Foreign Fields|From The Lake To ...|05OsKzq1tm0SY5Hk4...|ambient|       0.238|  0.182| 4.0| -16.154| 1.0|     0.0304|       0.961|           0.397|   0.115| 0.0699| 86.573|[0.238,0.182,4.0,...|\n",
            "| 2737|        Bethel Music|This Is Amazing G...|3ExKJt4K8duUfEG49...|ambient|       0.437|  0.735| 0.0|  -6.606| 1.0|     0.0301|     0.00206|         2.15E-5|   0.701|  0.145| 98.923|[0.437,0.735,0.0,...|\n",
            "| 2738| Dmitri Shostakovich|Piano Concerto No...|46TzngK2DGxxn3yO3...|ambient|       0.186|0.00228| 0.0| -38.863| 0.0|     0.0424|       0.983|           0.945|  0.0718| 0.0392| 78.426|[0.186,0.00228,0....|\n",
            "| 2739|       Marconi Union|   Weightless Part 5|56rN3Zh03LVnJ5kR1...|ambient|       0.311|  0.309| 7.0| -19.505| 0.0|      0.036|       0.891|           0.961|   0.112|  0.231|115.102|[0.311,0.309,7.0,...|\n",
            "| 2740|            Brambles|To Speak Of Solitude|5mjfIZabc3GGbIYtB...|ambient|       0.163|  0.047| 3.0| -24.975| 0.0|     0.0344|       0.938|           0.955|    0.14| 0.0389| 85.607|[0.163,0.047,3.0,...|\n",
            "| 2741|       Marconi Union|   Weightless Part 2|7b2dMRCVDx7OGekIV...|ambient|       0.385|  0.437| 1.0| -17.853| 0.0|     0.0422|       0.137|           0.889|   0.132|  0.224|169.933|[0.385,0.437,1.0,...|\n",
            "| 2742|       Marconi Union|   Weightless Part 6|1Mua0g96hUldJWj00...|ambient|       0.273|  0.174| 4.0| -19.513| 0.0|     0.0368|       0.819|           0.963|   0.147|  0.286| 64.758|[0.273,0.174,4.0,...|\n",
            "| 2743|    Sleeping At Last|Turning Page (Ins...|6YPb7DMon2lInNJci...|ambient|       0.281|  0.339| 3.0| -11.472| 1.0|     0.0288|       0.793|           0.903|   0.108|  0.163|125.207|[0.281,0.339,3.0,...|\n",
            "+-----+--------------------+--------------------+--------------------+-------+------------+-------+----+--------+----+-----------+------------+----------------+--------+-------+-------+--------------------+\n",
            "only showing top 20 rows\n",
            "\n"
          ]
        }
      ]
    },
    {
      "cell_type": "code",
      "execution_count": 23,
      "metadata": {
        "id": "lQylQqMqNNZk",
        "colab": {
          "base_uri": "https://localhost:8080/"
        },
        "outputId": "ffb36741-43d6-4645-9318-9660674148e5"
      },
      "outputs": [
        {
          "output_type": "stream",
          "name": "stdout",
          "text": [
            "User profile scaled: [0.28852720200962456,0.29953426227777286,0.05227644597888388,0.5738942340372074,0.28060517289219356,-0.1491317443641616,-0.19626615705610256,-0.7010600558980861,0.028906276495867418,0.13699767129202348,0.15979950885778796]\n"
          ]
        }
      ],
      "source": [
        "\n",
        "# After getting a vector of all features, we will normalize the vector\n",
        "# We will use StandardScaler for this process\n",
        "scaler = StandardScaler(inputCol=\"features_vector\", outputCol=\"scaled_features\", withMean=True, withStd=True)\n",
        "\n",
        "#inserting the user and spotify vectors\n",
        "scaler_model = scaler.fit(user_vector_df)\n",
        "scaler_model = scaler.fit(spotify_vector_df)\n",
        "\n",
        "#Scaling the vectors\n",
        "scaled_user_vector = scaler_model.transform(user_vector_df)\n",
        "scaled_spotify_vector = scaler_model.transform(spotify_vector_df)\n",
        "\n",
        "#Scale the user profile\n",
        "summarizer = Summarizer.metrics(\"mean\")\n",
        "scaled_user_vector = scaler_model.transform(user_vector_df)\n",
        "user_profile_values_scaled = scaled_user_vector.select(Summarizer.mean(scaled_user_vector.scaled_features)).collect()[0][0]\n",
        "\n",
        "print(f'User profile scaled: {user_profile_values_scaled}')"
      ]
    },
    {
      "cell_type": "code",
      "source": [
        "scaled_user_vector.show(10,False)"
      ],
      "metadata": {
        "id": "_VeTJBIJwwQ5",
        "colab": {
          "base_uri": "https://localhost:8080/"
        },
        "outputId": "3b61eafa-792c-48ae-8d41-57f6436661b2"
      },
      "execution_count": 24,
      "outputs": [
        {
          "output_type": "stream",
          "name": "stdout",
          "text": [
            "+----------------------+------------+------+----+--------+----+-----------+------------+----------------+--------+-------+-------+-----------------------------------------------------------------------+--------------------------------------------------------------------------------------------------------------------------------------------------------------------------------------------------------------------------+\n",
            "|track_id              |danceability|energy|key |loudness|mode|speechiness|acousticness|instrumentalness|liveness|valence|tempo  |features_vector                                                        |scaled_features                                                                                                                                                                                                           |\n",
            "+----------------------+------------+------+----+--------+----+-----------+------------+----------------+--------+-------+-------+-----------------------------------------------------------------------+--------------------------------------------------------------------------------------------------------------------------------------------------------------------------------------------------------------------------+\n",
            "|01ZedLPM6De5HPt5crdRQf|0.661       |0.845 |2.0 |-5.607  |1.0 |0.0348     |0.0123      |0.0             |0.163   |0.835  |130.06 |[0.661,0.845,2.0,-5.607,1.0,0.0348,0.0123,0.0,0.163,0.835,130.06]      |[0.5148391930617083,1.1742507626143361,-0.9015599599147353,0.696960875306397,0.8244444604140997,-0.5677840914885359,-1.0816269187577783,-0.7469589789742133,-0.11951438946765877,1.5753909389662348,0.4236016597238307]   |\n",
            "|07wOBgBXdrrhs3LOCy2RpM|0.656       |0.348 |5.0 |-12.556 |1.0 |0.0347     |0.422       |0.00527         |0.0852  |0.533  |178.046|[0.656,0.348,5.0,-12.556,1.0,0.0347,0.422,0.00527,0.0852,0.533,178.046]|[0.4906197380629563,-0.7163887464818308,-0.06542630026642884,-0.3000465731721198,0.8244444604140997,-0.5687581709035067,0.07646505666862123,-0.7337351493612733,-0.6494897187542569,0.4505476318550437,1.9727186429682297]|\n",
            "|0DYvTdqBqW6erA1a7pFzVo|0.807       |0.501 |10.0|-6.397  |0.0 |0.0377     |0.645       |1.53E-5         |0.262   |0.401  |94.958 |[0.807,0.501,10.0,-6.397,0.0,0.0377,0.645,1.53E-5,0.262,0.401,94.958]  |[1.2220472790252674,-0.1343608895568537,1.3281297991474152,0.5836156624271297,-1.2129236167202053,-0.5395357884543832,0.7068153386312455,-0.7469205872108209,0.5548758110384235,-0.0411057341670664,-0.709585193646838]   |\n",
            "|0JL7DoEqAUcOntWmBuOSdh|0.588       |0.452 |7.0 |-7.778  |1.0 |0.039      |0.724       |0.0             |0.107   |0.267  |83.936 |[0.588,0.452,7.0,-7.778,1.0,0.039,0.724,0.0,0.107,0.267,83.936]        |[0.1612351500799285,-0.3207619679184476,0.4919961394991088,0.38547675231792966,0.8244444604140997,-0.526872756059763,0.9301232860529821,-0.7469589789742133,-0.500987634198372,-0.540208393613754,-1.0654049616900123]    |\n",
            "|0XFCzxunyrtisfiZALPVSR|0.732       |0.826 |8.0 |-4.715  |1.0 |0.0589     |0.564       |0.0             |0.0746  |0.705  |117.943|[0.732,0.826,8.0,-4.715,1.0,0.0589,0.564,0.0,0.0746,0.705,117.943]     |[0.8587554540439868,1.101972793453718,0.7707073593818776,0.8249405333928609,0.8244444604140997,-0.3330309524805775,0.4778540254519961,-0.7469589789742133,-0.721697154363999,1.091186866368702,0.032432350217466474]      |\n",
            "|0dWOFwdXrbBUYqD9DLsoyK|0.595       |0.657 |1.0 |-6.498  |0.0 |0.183      |0.462       |5.97E-4         |0.437   |0.718  |156.093|[0.595,0.657,1.0,-6.498,0.0,0.183,0.462,5.97E-4,0.437,0.718,156.093]   |[0.19514238707818135,0.4590792782882209,-1.180271179797504,0.5691246921729449,-1.2129236167202053,0.8758016014981621,0.1895323718188678,-0.745460947422235,1.7469797008219021,1.1396072736284553,1.2640168313322462]      |\n",
            "|0eYv585XqQBswrj2aLrDWU|0.457       |0.95  |5.0 |-1.93   |0.0 |0.129      |0.018       |0.0             |0.0701  |0.767  |174.002|[0.457,0.95,5.0,-1.93,0.0,0.129,0.018,0.0,0.0701,0.767,174.002]        |[-0.4733145708873742,1.5736816448177517,-0.06542630026642884,1.224518277530531,-1.2129236167202053,0.3497987174139402,-1.065514826348868,-0.7469589789742133,-0.7523512543870027,1.3221149625306023,1.8421674597014368]   |\n",
            "|0pl5A0K1kXws0xkClbd6iN|0.563       |0.707 |8.0 |-5.116  |1.0 |0.0409     |0.00982     |0.0             |0.0689  |0.633  |77.995 |[0.563,0.707,8.0,-5.116,1.0,0.0409,0.00982,0.0,0.0689,0.633,77.995]    |[0.04013787508616828,0.6492844602898472,0.7707073593818776,0.7674070772351569,0.8244444604140997,-0.5083652471753182,-1.0886370922970936,-0.7469589789742133,-0.7605256810598037,0.8230123030839149,-1.2571964008067333]  |\n",
            "|0uLgxIVjt4CaUyvM3jcmQJ|0.544       |0.937 |2.0 |-1.12   |1.0 |0.0442     |0.0686      |0.0             |0.314   |0.518  |140.106|[0.544,0.937,2.0,-1.12,1.0,0.0442,0.0686,0.0,0.314,0.518,140.106]      |[-0.05189605390908895,1.5242282974973291,-0.9015599599147353,1.340732989470033,0.8244444604140997,-0.4762206264812824,-0.9224846726838064,-0.7469589789742133,0.9091009668598,0.394677931170713,0.7479135259696779]       |\n",
            "|14gmLQPNYokqB8OKxAp69f|0.622       |0.671 |5.0 |-6.426  |1.0 |0.026      |0.014       |0.0             |0.304   |0.572  |84.996 |[0.622,0.671,5.0,-6.426,1.0,0.026,0.014,0.0,0.304,0.572,84.996]        |[0.32592744407144236,0.5123367292486765,-0.06542630026642884,0.5794548887897896,0.8244444604140997,-0.6535030800059647,-1.0768215578638929,-0.7469589789742133,0.8409807445864583,0.5958088536343032,-1.0311853142461944] |\n",
            "+----------------------+------------+------+----+--------+----+-----------+------------+----------------+--------+-------+-------+-----------------------------------------------------------------------+--------------------------------------------------------------------------------------------------------------------------------------------------------------------------------------------------------------------------+\n",
            "only showing top 10 rows\n",
            "\n"
          ]
        }
      ]
    },
    {
      "cell_type": "code",
      "execution_count": 25,
      "metadata": {
        "id": "RfF1eJDpZFOw"
      },
      "outputs": [],
      "source": [
        "# Show only regular and scaled vector columns\n",
        "drop_col = ['index','genre','danceability', 'energy', 'key', 'loudness', 'mode', 'speechiness', 'acousticness', 'instrumentalness', 'liveness', 'valence', 'tempo', 'time_signature']\n",
        "for column in drop_col:\n",
        "  scaled_user_vector = scaled_user_vector.drop(column)\n",
        "  scaled_spotify_vector = scaled_spotify_vector.drop(column)"
      ]
    },
    {
      "cell_type": "markdown",
      "source": [
        "# Calculate cosine similarity between the user profile and the Spotify items"
      ],
      "metadata": {
        "id": "izYfddEjH_9l"
      }
    },
    {
      "cell_type": "code",
      "execution_count": 26,
      "metadata": {
        "id": "XM6n3aJxdTpO"
      },
      "outputs": [],
      "source": [
        "# Define a UDF(user defined function) to compute cosine similarity\n",
        "# input: array that will be compared with user's vector\n",
        "def cosine_similarity_udf(x):\n",
        "    # Check for NaN values and replace them with 0\n",
        "    x_array = np.nan_to_num(x.toArray())\n",
        "\n",
        "    # Compute cosine similarity and return the result\n",
        "    return float(cosine_similarity([x_array], [user_profile_values_scaled])[0][0])\n",
        "\n",
        "cosine_similarity_udf = udf(cosine_similarity_udf, DoubleType())"
      ]
    },
    {
      "cell_type": "code",
      "execution_count": 27,
      "metadata": {
        "id": "I-sh3vr6a7iY"
      },
      "outputs": [],
      "source": [
        "# Perform cosine similarity between user's playlist and scaled spotify vector\n",
        "Cosine_sim_results = scaled_spotify_vector.withColumn(\"Cosine similarity\", cosine_similarity_udf(col(\"scaled_features\")))\n",
        "\n",
        "# Sort by highest cosine similarity (descending)\n",
        "top_50_df = Cosine_sim_results.sort(\"Cosine similarity\", ascending=False)\n",
        "top_50_df = top_50_df.dropna()\n",
        "\n",
        "#Reorder DF\n",
        "top_50_df = top_50_df.select('Cosine similarity','artist_name', 'track_name', 'track_id', 'scaled_features')"
      ]
    },
    {
      "cell_type": "code",
      "execution_count": 28,
      "metadata": {
        "id": "pK8LA7i9_WZC",
        "colab": {
          "base_uri": "https://localhost:8080/"
        },
        "outputId": "4bdc8361-00d0-4fbf-feae-6b134f4b2933"
      },
      "outputs": [
        {
          "output_type": "stream",
          "name": "stdout",
          "text": [
            "+------------------+---------------+---------------------------------+----------------------+-----------------------------------------------------------------------------------------------------------------------------------------------------------------------------------------------------------------------------+\n",
            "|Cosine similarity |artist_name    |track_name                       |track_id              |scaled_features                                                                                                                                                                                                              |\n",
            "+------------------+---------------+---------------------------------+----------------------+-----------------------------------------------------------------------------------------------------------------------------------------------------------------------------------------------------------------------------+\n",
            "|0.8952346083528387|Dvwn           |Insomnia (Feat. YAYYOUNG)        |7tr6WuxHOWyWQl0W8YfBtq|[0.5729658850587133,0.24604947444639913,0.21328491961633997,0.756646455759277,0.8244444604140997,-0.44115376754233426,-0.4266844957499756,-0.7469589789742133,-0.030958100512314738,-0.14167119539886175,0.09903153198784116]|\n",
            "|0.8878129596994597|Mariya Takeuchi|夏のモンタージュ                 |1MMnH7tlOg8fuZPiDJcWZu|[0.48577584706320587,0.8280773313713762,-0.06542630026642884,0.6813221054281183,0.8244444604140997,-0.6330474122915782,-0.5538852252940029,-0.7465499686844771,-0.07183023387631957,0.20844559555627737,0.11307450051431382] |\n",
            "|0.8831809836943688|Kim Gun Mo     |Toad                             |7AdgkOJT11pwqMn2JJe0fK|[0.41311748206694976,0.42484234552792816,-0.06542630026642884,0.8841956889867058,0.8244444604140997,-0.44505008520221745,-0.37297752105360843,-0.7469589789742133,0.411823344264406,0.02593790665413028,0.7448143880879735]  |\n",
            "|0.8802099999333052|TAEYEON        |Happy                            |459mRPsscVLMvVL59gr7EM|[0.9604771650387454,0.41343003460783057,-0.06542630026642884,1.0834823987199995,0.8244444604140997,-0.4908318177058441,-0.5086582992339043,-0.7469589789742133,0.13934245517103952,0.834186243220781,0.09825674751741506]    |\n",
            "|0.8783841806846928|J-Cera         |사랑시 고백구 행복동             |3LVpdzjsya6leZ7B0CMp3v|[0.9217260370407421,0.9041594041720269,0.4919961394991088,1.160528448487299,0.8244444604140997,-0.6408400476113444,-0.9852370325921932,-0.746955541280367,-0.17401056728633213,0.3760546976092694,0.2612520304833006]        |\n",
            "|0.8769046074825643|Taylor Swift   |You Belong With Me               |3GCL1PydwsLodcpv0Ll1ch|[0.6407803590552189,0.9383963369323196,0.21328491961633997,0.8643961454710868,0.8244444604140997,-0.5307690737196461,-0.6584724918079808,-0.746925103888867,-0.45330347860703285,0.11532942774905947,0.4205025218421263]     |\n",
            "|0.8767207333093507|Fetty Wap      |My Way (feat. Monty)             |1WoOzgvz6CgH4pX6a1RKGp|[0.9362577100399934,0.7786239840509532,0.21328491961633997,1.0562221576477708,0.8244444604140997,-0.3895275585488829,-1.1045513169044907,-0.7469589789742133,-0.2285067451050055,0.46544621870419856,0.3595850928548762]     |\n",
            "|0.8736259976498818|IVY            |바본가봐                         |2wo6btkOmf4NK553JrEg4q|[0.19029849607843094,0.9574168551324823,0.4919961394991088,0.9890758796382809,0.8244444604140997,-0.4138795439231524,-0.5454051766577344,-0.7469589789742133,0.11890638848903702,0.29411246993891765,0.7424577519904282]     |\n",
            "|0.8725540552556307|EXO-CBX        |Monday Blues                     |0XMORQgKnVYNvqYZNfBqAA|[0.6456242500549688,0.3639766872874076,-0.06542630026642884,0.9115994050119463,0.8244444604140997,-0.03204041325460607,-0.8054600015033013,-0.7469589789742133,0.27558289971772276,0.27176458966518535,0.7750632651208585]   |\n",
            "|0.8724979771227436|DAY6           |이상하게 계속 이래 Out Of My Mind|7sL5S3vR1x1B2a0QrJsiVH|[0.7618776340489786,0.9612209587725148,-0.06542630026642884,0.760950704349629,0.8244444604140997,-0.5755767268083021,-0.5878054198390767,-0.7469589789742133,-0.35793516742435455,0.4393736917181776,0.22741977527469528]    |\n",
            "|0.8710244215904128|Jan Smit       |Altijd Daar                      |3cuagxfK0skAzjllwlWw5k|[0.07404511208442113,0.5960270093293917,0.4919961394991088,0.9121733048239932,0.8244444604140997,-0.5823952827130976,-0.18358976817694558,-0.7469589789742133,0.2892069441723911,0.3537068173355371,0.3594882447960734]      |\n",
            "|0.8702382255703319|Beast          |History                          |6zNcOUq3W3aKwAt3ZPYqDS|[0.3356152260709432,0.6721090821300424,-0.06542630026642884,0.7293862146870481,0.8244444604140997,-0.580447123883156,-0.7969799528670328,-0.7469589789742133,0.2415227885810519,0.03338720007870771,0.09938664153678631]     |\n",
            "|0.8679837122462005|Brown Eyes     |Noday But Today                  |3knFw55XhyTCyn6tVDldwl|[1.062198876033504,0.4438628637280908,0.4919961394991088,1.0192056197707442,0.8244444604140997,-0.5687581709035067,-0.8871511366993543,-0.746935115858536,0.05078616621569531,0.5399391529499729,0.6155867949581584]         |\n",
            "|0.8671065921623755|Rain           |Love Story (0912......그 이후)   |5NYg42PFDK9WnNg4nwWIzX|[0.7231265060509754,0.8432937459315063,0.21328491961633997,0.7504770327797726,0.8244444604140997,-0.5541469796789449,-0.6923926863530548,-0.7469589789742133,-0.0037100116029780547,0.755968662262718,0.034885834373815955]  |\n",
            "|0.8670878630350569|APRIL          |The Blue Bird                    |6emq7eKDjBS9PbxAPXwdDi|[0.5778097760584636,1.4024969810162882,0.21328491961633997,1.1575154744740528,0.8244444604140997,-0.5297949943046754,-0.9089165948657767,-0.7469589789742133,0.09847032180703451,0.13022801459821434,0.19604100422243903]    |\n",
            "|0.8670720598535928|VIC MENSA      |Rollin' Like A Stoner            |5gdy0ytFSBQykiYc5NmhJL|[0.3985858090676985,0.4742956928483511,0.4919961394991088,0.7510509325918194,0.8244444604140997,-0.11970756060197646,-0.5764986883240522,-0.7469589789742133,-0.3170630340603495,-0.07090290786537613,0.42902515101681343]   |\n",
            "|0.864263121975436 |Lovelyz        |Ah-Choo                          |4Kl017IgdJxdlvgnvrpYlE|[0.8442237810447356,1.3758682555360604,-0.06542630026642884,1.3537892101941005,0.8244444604140997,-0.5258986766447922,-0.22599001135828806,-0.7469589789742133,-0.500987634198372,0.39095328445842426,0.324074137960348]     |\n",
            "|0.8637544521426571|EXO            |Baby, Don't Cry                  |7M4eO9xXwmAnO0hq6XDles|[0.47608806506370505,1.1057768970937507,-0.06542630026642884,0.9018431082071485,0.8244444604140997,-0.5005726118555519,-0.14401620787435945,-0.7469589789742133,-0.248942811787008,0.03338720007870771,0.6781829236313314]   |\n",
            "|0.8634966487540658|JUNNY          |Handle You                       |7jDgfgtt9YMS3kX2sMnoef|[0.35983468106969524,0.7215624294504652,-0.06542630026642884,0.9577983398817236,0.8244444604140997,0.06049713116761811,-0.8082866843820574,-0.7469589789742133,-0.4669275230617012,0.3611561107601145,0.38841353169197973]   |\n",
            "|0.8634747286475928|MONSTA X       |Daydream                         |1UbjPSgETXPg3bdzYLCrhO|[1.1300133500300096,0.44766696736812334,-0.06542630026642884,0.998545226537055,0.8244444604140997,-0.21808958151402535,-0.14684289075311543,-0.7469589789742133,-0.26937887846901054,-0.1304972552619956,0.35994020240382135]|\n",
            "|0.8634184836085358|WJSN           |Boogie Up                        |6u5ipVfAHGjTXvWuiI5sKB|[0.6649998140539705,1.5584652302576216,0.4919961394991088,1.352354460663983,0.8244444604140997,-0.3349791113105191,-0.9369007553654628,-0.7468222240000376,0.03716212176102697,0.45799692527962116,0.3919323444951651]       |\n",
            "|0.863036847181182 |Monday Kiz     |발자국                           |3xN5htG654ssE4n8EVZIWr|[0.35499079006994483,0.1965961271259762,0.21328491961633997,0.7055693724871009,0.8244444604140997,-0.5911619974478346,-0.4973515677188796,-0.7469589789742133,-0.3238750562876837,0.49896803911479704,0.4214064370576231]    |\n",
            "|0.8609919784730327|TWICE          |When We Were Kids                |7uAKsykguOnXZSh0WpOW5z|[0.6117170130567164,0.466687485568286,-0.06542630026642884,0.7635332535038402,0.8244444604140997,-0.11483716352712256,-0.15532293938938393,-0.7469589789742133,-0.4873635897437037,0.46544621870419856,0.6466104564614685]   |\n",
            "|0.8607507819107298|KIMSEJEONG     |Whale                            |4UnBxdw1l3J31WBsgmHezz|[0.5874975580579644,0.8014486058911484,0.4919961394991088,1.045461536171891,0.8244444604140997,-0.6184362210670165,-1.0477067242127043,-0.7469589789742133,-0.0037100116029780547,0.1674744817211015,-0.02961497278915485]   |\n",
            "|0.8605231357944362|Tiziano Ferro  |Tardes Negras                    |0IgtEvYFtZEapMoCcgizGQ|[0.2823324250736887,0.38680130912760285,0.21328491961633997,0.8643961454710868,0.8244444604140997,-0.5921360768628053,-0.5425784937789782,-0.7469589789742133,-0.4669275230617012,0.09670619418761589,0.6159741871933714]    |\n",
            "|0.8604055781825959|Gummy          |Childish Adult                   |06hY8viaxC51LU6w4Cm4lY|[0.48577584706320587,1.1552302444141735,0.21328491961633997,1.1702847452920968,0.8244444604140997,-0.2911455376368339,-0.9931517446527104,-0.7469589789742133,-0.23531876733233967,0.5026926858270857,-0.06393146829177646]  |\n",
            "|0.8586403637610648|Noel           |Love 911                         |5qW19dhplyLLYUQsBmk7Po|[0.3985858090676985,1.0563235497733277,0.21328491961633997,0.885056538704776,0.8244444604140997,-0.5960323945226885,-0.41537776423495093,-0.7469589789742133,0.3096430108543936,0.6628524944555001,-0.09534252203030016]     |\n",
            "|0.8581978496554118|IU             |Jam Jam                          |3h7WIL3B6nP3171zl6HWj8|[0.8635993450437371,0.6112434238895218,0.4919961394991088,0.8382837040229518,0.8244444604140997,-0.37686452615426275,-0.7743664898369835,-0.7469496445062512,0.2551468330357202,-0.08952614142681971,-0.029679538161690205]  |\n",
            "|0.8571058462609982|Superfan       |Too Tired                        |3CkaqnqHF4NCMypM5AcVqq|[0.7570337430492282,0.2650699926465618,0.21328491961633997,0.7486118583906202,0.8244444604140997,-0.5483025031891202,-0.3390573265085345,-0.7469253548154251,0.05078616621569531,0.7596933089750068,-0.052955354960740296]   |\n",
            "|0.8562473722382994|EXO            |Baby, Don't Cry - Chinese Version|7LK08mnDnjpiRzNCdrkMLI|[0.47124417406395464,1.2693533536151496,-0.06542630026642884,0.9034213326902776,0.8244444604140997,-0.48011694414116557,-0.14684289075311543,-0.7469589789742133,-0.22169472287767134,0.19727165541941122,0.6782152063175992]|\n",
            "|0.8542681467154419|Miley Cyrus    |Angels Like You                  |1daDRI9ahBonbWD8YcxOIB|[0.5681219940589628,0.402017723687733,-0.06542630026642884,0.9225035014408377,0.8244444604140997,-0.6018768710125132,-0.8390975277604995,-0.7469589789742133,-0.5486717897897111,0.3052864100757838,0.1627898373666533]      |\n",
            "|0.8537331802545439|Taylor Swift   |Christmas Must Be Something More |31JVjy3XWnh6C2zf4kLCXN|[0.6504681410547192,0.9764373733326449,0.4919961394991088,0.807293114172418,0.8244444604140997,-0.5599914561687696,-0.27404362029714285,-0.7469589789742133,-0.500987634198372,0.3499821706232484,0.19177968963509592]       |\n",
            "|0.8531395499424785|WABLE          |Violet Fragrance                 |4DTOoongYCHSDT7SAPafM0|[0.979852729037747,0.7101501185303677,0.4919961394991088,1.0847736732971052,0.8244444604140997,-0.526872756059763,-0.24295010863082503,-0.7469589789742133,-0.6045303720538513,0.02593790665413028,0.22619303319652032]      |\n",
            "|0.8528762426688982|Apink          |BUBIBU (Original Ver.)           |5hqPBajIgiuL9bcxnKd2kQ|[0.7521898520494777,1.3682600482559955,-0.06542630026642884,1.0014147255972898,0.8244444604140997,-0.2911455376368339,-0.3531907409023153,-0.7469589789742133,-0.20125865619566882,0.2866631765143402,-0.12688270651389505]  |\n",
            "|0.8528762426688982|Apink          |BUBIBU                           |08Az8oHUOLj2TjMSYtWCd5|[0.7521898520494777,1.3682600482559955,-0.06542630026642884,1.0014147255972898,0.8244444604140997,-0.2911455376368339,-0.3531907409023153,-0.7469589789742133,-0.20125865619566882,0.2866631765143402,-0.12688270651389505]  |\n",
            "|0.8526153830795747|Radiation City |Foreign Bodies                   |42kJ4xNjMHEeIuLxfIUOYd|[0.36952246306919606,0.7329747403705629,-0.34413752014919763,0.5831852375680945,0.8244444604140997,-0.45966127642677906,-0.5397518109002221,-0.7333336668682808,-0.30343898960568116,0.21217024226856587,0.16498506003286093]|\n",
            "|0.8516714008285259|MINO           |FIANCÉ                           |6Tw2x3wavaWsboio2Cy44I|[0.5293708660609595,0.7634075694908231,-0.06542630026642884,0.9402943956142924,0.8244444604140997,-0.6106435857472503,-1.0429013633188189,-0.7469589789742133,-0.3783712341063571,0.34625752391095965,0.7413924233435919]    |\n",
            "|0.8506260714195866|Ozuna          |El Farsante                      |5EId1m4DNwTf3at31w8bPJ|[0.873287127043238,0.634068045729717,0.21328491961633997,0.8917998614963274,0.8244444604140997,-0.3116012053512203,-0.5510585424152467,-0.7469589789742133,0.534439744356421,-0.33162817772558606,0.09906381467410907]       |\n",
            "|0.8499208135966383|Billlie        |B’rave ~ a song for Matilda      |78Kr4lzSgXyE11fq4ncILK|[0.6117170130567164,0.98404558061271,0.21328491961633997,1.115333838288604,0.8244444604140997,-0.17133376959542787,-0.7574063925644465,-0.7469589789742133,0.5548758110384235,1.0688389860949699,0.42227806958685293]        |\n",
            "|0.8498531358756146|SHINee         |I Want You                       |7wNZPLzUKbttcNSyoqELuE|[0.7957848710472315,0.748191154930693,-0.34413752014919763,0.9064343067035239,0.8244444604140997,-0.06808135160852506,-0.8309001474121066,-0.7469589789742133,0.609371988857097,0.37977934432155813,0.19755829047702378]     |\n",
            "|0.84976728968809  |ITZY           |KIDDING ME                       |74WtkDIkOXTtEVO4TatDMX|[0.9943844020369982,0.8889429896118967,0.7707073593818776,0.8886434125300693,0.8244444604140997,-0.549276582604091,-0.5086582992339043,-0.7469589789742133,0.009914032851690287,0.011039319804975417,0.6790545561605612]     |\n",
            "|0.8496300619041001|CIX            |Move My Body                     |08lPL88PZPqejj3EkQK6Yq|[1.013759966036,0.7215624294504652,-0.34413752014919763,1.2190662293160852,0.8244444604140997,-0.3778386055692335,-1.0366826609855553,-0.7469589789742133,-0.15357450060432962,-0.06717826115308742,0.004798370772270015]    |\n",
            "|0.8495773018360651|HYO            |DEEP                             |2afNmSvxjRvXw3Fqm9qWfK|[1.110637786031008,1.4139092919363858,0.4919961394991088,1.225522602201613,0.8244444604140997,0.004974604514283603,-0.9377487602290897,-0.7469520784938649,-0.1603865228316638,0.5622870332237048,0.3241709860191513]        |\n",
            "|0.8492817368177512|JVKE           |anxiety.                         |69nR37Z0U1yh7W6KUlTHJ1|[0.5681219940589628,1.0030660988128728,0.4919961394991088,1.0110275474490755,0.8244444604140997,-0.25218236103800273,-0.4521246416587811,-0.7469360944721127,0.10528234403436867,1.020418578835217,0.002506300047259613]     |\n",
            "|0.8487060523352434|TWICE          |Brave                            |2peoFPokM6eYAIwLm9IQ8E|[0.40827359106719935,1.322610804575605,0.4919961394991088,1.2021361848607008,0.8244444604140997,-0.43628337046748034,-0.8964791901992497,-0.7469589789742133,-0.017334056057646395,0.9347517044525764,0.48503561169136455]   |\n",
            "|0.8480776325149301|f(x)           |All Night                        |2YtNFUkfxnYtg6ts8zfq93|[0.8587554540439868,1.322610804575605,-0.06542630026642884,1.0834823987199995,0.8244444604140997,-0.4606353558417499,-0.9419887845472239,-0.7469589789742133,0.15296649962570788,0.08553225405074974,-0.1262047701022722]    |\n",
            "|0.8479421071027246|ITZY           |WANT IT?                         |24HHXG8VtexJC0hrJe1WJY|[0.9217260370407421,1.5774857484577842,-0.06542630026642884,1.1534981757897245,0.8244444604140997,-0.393423876208766,-0.9954130909557153,-0.7372732138307696,0.15296649962570788,0.7224468418521196,0.35532377826753264]     |\n",
            "|0.846673047194946 |GFRIEND        |Compas                           |0iNFkX82Qba4d3MoT9BKz0|[0.7764093070482299,0.6835213930501399,0.21328491961633997,0.8124582124808404,0.8244444604140997,-0.5093393265902889,-0.1581496222681401,-0.7469589789742133,-0.7128415254684646,0.3052864100757838,0.3549686687185875]      |\n",
            "|0.846321798080576 |MC MONG        |Sick enough to die (Feat. JAMIE) |2aKeFpk9jaBdQeXuqqIZpm|[0.32108355307169195,1.2693533536151496,0.21328491961633997,0.9031343827842542,0.8244444604140997,-0.28335290231706767,-0.14401620787435945,-0.7469589789742133,-0.11951438946765877,0.7410700754135632,0.16469451585645112] |\n",
            "|0.8461077937674788|JJ Project     |Find You                         |3OmTcIPTrvAu0TrahkOth6|[0.4228052640664506,0.5960270093293917,-0.06542630026642884,0.9714284604178379,0.8244444604140997,-0.5697322503184774,-0.2457767915095812,-0.7469589789742133,-0.09226630055832208,0.30156176336349505,-0.4814434497926268]  |\n",
            "+------------------+---------------+---------------------------------+----------------------+-----------------------------------------------------------------------------------------------------------------------------------------------------------------------------------------------------------------------------+\n",
            "only showing top 50 rows\n",
            "\n"
          ]
        }
      ],
      "source": [
        "# Show Top 50 songs recommended\n",
        "top_50_df.show(50, False)"
      ]
    }
  ]
}